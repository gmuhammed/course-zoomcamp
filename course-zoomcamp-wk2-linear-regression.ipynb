{
 "cells": [
  {
   "cell_type": "code",
   "execution_count": 73,
   "id": "c82f70a3",
   "metadata": {},
   "outputs": [],
   "source": [
    "import numpy as np\n",
    "import pandas as pd\n",
    "import matplotlib.pyplot as plt\n",
    "import seaborn as sns"
   ]
  },
  {
   "cell_type": "code",
   "execution_count": 74,
   "id": "452b2525",
   "metadata": {},
   "outputs": [],
   "source": [
    "#!python -m wget https://raw.githubusercontent.com/alexeygrigorev/datasets/master/AB_NYC_2019.csv -o New_York_City_Airbnb_Open_Data.csv"
   ]
  },
  {
   "cell_type": "code",
   "execution_count": 75,
   "id": "f84526d4",
   "metadata": {},
   "outputs": [],
   "source": [
    "data = pd.read_csv('New_York_City_Airbnb_Open_Data.csv')"
   ]
  },
  {
   "cell_type": "code",
   "execution_count": 76,
   "id": "3bf10eee",
   "metadata": {},
   "outputs": [
    {
     "data": {
      "text/html": [
       "<div>\n",
       "<style scoped>\n",
       "    .dataframe tbody tr th:only-of-type {\n",
       "        vertical-align: middle;\n",
       "    }\n",
       "\n",
       "    .dataframe tbody tr th {\n",
       "        vertical-align: top;\n",
       "    }\n",
       "\n",
       "    .dataframe thead th {\n",
       "        text-align: right;\n",
       "    }\n",
       "</style>\n",
       "<table border=\"1\" class=\"dataframe\">\n",
       "  <thead>\n",
       "    <tr style=\"text-align: right;\">\n",
       "      <th></th>\n",
       "      <th>id</th>\n",
       "      <th>name</th>\n",
       "      <th>host_id</th>\n",
       "      <th>host_name</th>\n",
       "      <th>neighbourhood_group</th>\n",
       "      <th>neighbourhood</th>\n",
       "      <th>latitude</th>\n",
       "      <th>longitude</th>\n",
       "      <th>room_type</th>\n",
       "      <th>price</th>\n",
       "      <th>minimum_nights</th>\n",
       "      <th>number_of_reviews</th>\n",
       "      <th>last_review</th>\n",
       "      <th>reviews_per_month</th>\n",
       "      <th>calculated_host_listings_count</th>\n",
       "      <th>availability_365</th>\n",
       "    </tr>\n",
       "  </thead>\n",
       "  <tbody>\n",
       "    <tr>\n",
       "      <th>0</th>\n",
       "      <td>2539</td>\n",
       "      <td>Clean &amp; quiet apt home by the park</td>\n",
       "      <td>2787</td>\n",
       "      <td>John</td>\n",
       "      <td>Brooklyn</td>\n",
       "      <td>Kensington</td>\n",
       "      <td>40.64749</td>\n",
       "      <td>-73.97237</td>\n",
       "      <td>Private room</td>\n",
       "      <td>149</td>\n",
       "      <td>1</td>\n",
       "      <td>9</td>\n",
       "      <td>2018-10-19</td>\n",
       "      <td>0.21</td>\n",
       "      <td>6</td>\n",
       "      <td>365</td>\n",
       "    </tr>\n",
       "    <tr>\n",
       "      <th>1</th>\n",
       "      <td>2595</td>\n",
       "      <td>Skylit Midtown Castle</td>\n",
       "      <td>2845</td>\n",
       "      <td>Jennifer</td>\n",
       "      <td>Manhattan</td>\n",
       "      <td>Midtown</td>\n",
       "      <td>40.75362</td>\n",
       "      <td>-73.98377</td>\n",
       "      <td>Entire home/apt</td>\n",
       "      <td>225</td>\n",
       "      <td>1</td>\n",
       "      <td>45</td>\n",
       "      <td>2019-05-21</td>\n",
       "      <td>0.38</td>\n",
       "      <td>2</td>\n",
       "      <td>355</td>\n",
       "    </tr>\n",
       "    <tr>\n",
       "      <th>2</th>\n",
       "      <td>3647</td>\n",
       "      <td>THE VILLAGE OF HARLEM....NEW YORK !</td>\n",
       "      <td>4632</td>\n",
       "      <td>Elisabeth</td>\n",
       "      <td>Manhattan</td>\n",
       "      <td>Harlem</td>\n",
       "      <td>40.80902</td>\n",
       "      <td>-73.94190</td>\n",
       "      <td>Private room</td>\n",
       "      <td>150</td>\n",
       "      <td>3</td>\n",
       "      <td>0</td>\n",
       "      <td>NaN</td>\n",
       "      <td>NaN</td>\n",
       "      <td>1</td>\n",
       "      <td>365</td>\n",
       "    </tr>\n",
       "    <tr>\n",
       "      <th>3</th>\n",
       "      <td>3831</td>\n",
       "      <td>Cozy Entire Floor of Brownstone</td>\n",
       "      <td>4869</td>\n",
       "      <td>LisaRoxanne</td>\n",
       "      <td>Brooklyn</td>\n",
       "      <td>Clinton Hill</td>\n",
       "      <td>40.68514</td>\n",
       "      <td>-73.95976</td>\n",
       "      <td>Entire home/apt</td>\n",
       "      <td>89</td>\n",
       "      <td>1</td>\n",
       "      <td>270</td>\n",
       "      <td>2019-07-05</td>\n",
       "      <td>4.64</td>\n",
       "      <td>1</td>\n",
       "      <td>194</td>\n",
       "    </tr>\n",
       "    <tr>\n",
       "      <th>4</th>\n",
       "      <td>5022</td>\n",
       "      <td>Entire Apt: Spacious Studio/Loft by central park</td>\n",
       "      <td>7192</td>\n",
       "      <td>Laura</td>\n",
       "      <td>Manhattan</td>\n",
       "      <td>East Harlem</td>\n",
       "      <td>40.79851</td>\n",
       "      <td>-73.94399</td>\n",
       "      <td>Entire home/apt</td>\n",
       "      <td>80</td>\n",
       "      <td>10</td>\n",
       "      <td>9</td>\n",
       "      <td>2018-11-19</td>\n",
       "      <td>0.10</td>\n",
       "      <td>1</td>\n",
       "      <td>0</td>\n",
       "    </tr>\n",
       "  </tbody>\n",
       "</table>\n",
       "</div>"
      ],
      "text/plain": [
       "     id                                              name  host_id  \\\n",
       "0  2539                Clean & quiet apt home by the park     2787   \n",
       "1  2595                             Skylit Midtown Castle     2845   \n",
       "2  3647               THE VILLAGE OF HARLEM....NEW YORK !     4632   \n",
       "3  3831                   Cozy Entire Floor of Brownstone     4869   \n",
       "4  5022  Entire Apt: Spacious Studio/Loft by central park     7192   \n",
       "\n",
       "     host_name neighbourhood_group neighbourhood  latitude  longitude  \\\n",
       "0         John            Brooklyn    Kensington  40.64749  -73.97237   \n",
       "1     Jennifer           Manhattan       Midtown  40.75362  -73.98377   \n",
       "2    Elisabeth           Manhattan        Harlem  40.80902  -73.94190   \n",
       "3  LisaRoxanne            Brooklyn  Clinton Hill  40.68514  -73.95976   \n",
       "4        Laura           Manhattan   East Harlem  40.79851  -73.94399   \n",
       "\n",
       "         room_type  price  minimum_nights  number_of_reviews last_review  \\\n",
       "0     Private room    149               1                  9  2018-10-19   \n",
       "1  Entire home/apt    225               1                 45  2019-05-21   \n",
       "2     Private room    150               3                  0         NaN   \n",
       "3  Entire home/apt     89               1                270  2019-07-05   \n",
       "4  Entire home/apt     80              10                  9  2018-11-19   \n",
       "\n",
       "   reviews_per_month  calculated_host_listings_count  availability_365  \n",
       "0               0.21                               6               365  \n",
       "1               0.38                               2               355  \n",
       "2                NaN                               1               365  \n",
       "3               4.64                               1               194  \n",
       "4               0.10                               1                 0  "
      ]
     },
     "execution_count": 76,
     "metadata": {},
     "output_type": "execute_result"
    }
   ],
   "source": [
    "data.head()"
   ]
  },
  {
   "cell_type": "code",
   "execution_count": 77,
   "id": "c24efbc3",
   "metadata": {},
   "outputs": [
    {
     "data": {
      "text/plain": [
       "<AxesSubplot:xlabel='price', ylabel='Count'>"
      ]
     },
     "execution_count": 77,
     "metadata": {},
     "output_type": "execute_result"
    },
    {
     "data": {
      "image/png": "[encoded data removed]",
      "text/plain": [
       "<Figure size 432x288 with 1 Axes>"
      ]
     },
     "metadata": {
      "needs_background": "light"
     },
     "output_type": "display_data"
    }
   ],
   "source": [
    "sns.histplot(data.price,bins=50)\n",
    "#price variable histplot has a long tail"
   ]
  },
  {
   "cell_type": "code",
   "execution_count": 78,
   "id": "3ee540ef",
   "metadata": {},
   "outputs": [
    {
     "data": {
      "text/plain": [
       "id                                    0\n",
       "name                                 16\n",
       "host_id                               0\n",
       "host_name                            21\n",
       "neighbourhood_group                   0\n",
       "neighbourhood                         0\n",
       "latitude                              0\n",
       "longitude                             0\n",
       "room_type                             0\n",
       "price                                 0\n",
       "minimum_nights                        0\n",
       "number_of_reviews                     0\n",
       "last_review                       10052\n",
       "reviews_per_month                 10052\n",
       "calculated_host_listings_count        0\n",
       "availability_365                      0\n",
       "dtype: int64"
      ]
     },
     "execution_count": 78,
     "metadata": {},
     "output_type": "execute_result"
    }
   ],
   "source": [
    "data.isnull().sum()"
   ]
  },
  {
   "cell_type": "code",
   "execution_count": 79,
   "id": "2050adad",
   "metadata": {},
   "outputs": [],
   "source": [
    "data.reviews_per_month.fillna(0,inplace=True) \n",
    "#data.reviews_per_month.fillna(data.reviews_per_month.mean(),inplace=True)"
   ]
  },
  {
   "cell_type": "code",
   "execution_count": 80,
   "id": "e1977a93",
   "metadata": {},
   "outputs": [],
   "source": [
    "X =  data[[\n",
    "    'latitude',\n",
    "    'longitude',\n",
    "    'minimum_nights',\n",
    "    'number_of_reviews',\n",
    "    'reviews_per_month',\n",
    "    'calculated_host_listings_count',\n",
    "    'availability_365'\n",
    "]]\n",
    "\n",
    "\n",
    "y = data.price.values"
   ]
  },
  {
   "cell_type": "code",
   "execution_count": 81,
   "id": "7b0ca969",
   "metadata": {},
   "outputs": [
    {
     "data": {
      "text/plain": [
       "latitude                          0\n",
       "longitude                         0\n",
       "minimum_nights                    0\n",
       "number_of_reviews                 0\n",
       "reviews_per_month                 0\n",
       "calculated_host_listings_count    0\n",
       "availability_365                  0\n",
       "dtype: int64"
      ]
     },
     "execution_count": 81,
     "metadata": {},
     "output_type": "execute_result"
    }
   ],
   "source": [
    "X.isnull().sum()"
   ]
  },
  {
   "cell_type": "code",
   "execution_count": 82,
   "id": "86995b73",
   "metadata": {},
   "outputs": [
    {
     "data": {
      "text/plain": [
       "3.0"
      ]
     },
     "execution_count": 82,
     "metadata": {},
     "output_type": "execute_result"
    }
   ],
   "source": [
    "np.percentile(X.minimum_nights,50)\n",
    "#Median for minimum_nights"
   ]
  },
  {
   "cell_type": "code",
   "execution_count": 83,
   "id": "1bef628a",
   "metadata": {},
   "outputs": [
    {
     "data": {
      "text/plain": [
       "48895"
      ]
     },
     "execution_count": 83,
     "metadata": {},
     "output_type": "execute_result"
    }
   ],
   "source": [
    "len(X)"
   ]
  },
  {
   "cell_type": "code",
   "execution_count": 84,
   "id": "ad16d524",
   "metadata": {},
   "outputs": [],
   "source": [
    "n_val = int(0.2 * len(X))\n",
    "n_test = int(0.2 * len(X))\n",
    "n_train = len(X) - n_val - n_test"
   ]
  },
  {
   "cell_type": "code",
   "execution_count": 85,
   "id": "ee76f3f6",
   "metadata": {},
   "outputs": [],
   "source": [
    "d_index = np.arange(len(X))\n",
    "np.random.seed(42)\n",
    "np.random.shuffle(d_index)\n"
   ]
  },
  {
   "cell_type": "code",
   "execution_count": 86,
   "id": "7cd2f53d",
   "metadata": {},
   "outputs": [],
   "source": [
    "X_train = X.iloc[d_index[:n_train]].reset_index(drop=True)\n",
    "X_valid = X.iloc[d_index[n_train :n_train + n_val]].reset_index(drop=True)\n",
    "X_test  = X.iloc[d_index[n_train + n_val:]].reset_index(drop=True)"
   ]
  },
  {
   "cell_type": "code",
   "execution_count": 87,
   "id": "c1af613e",
   "metadata": {},
   "outputs": [],
   "source": [
    "y = np.log1p(y) #to reduce the impact of long tail of y histplot\n",
    "y_train = y[d_index[:n_train]]\n",
    "y_valid = y[d_index[n_train :n_train + n_val]]\n",
    "y_test  = y[d_index[n_train + n_val:]]"
   ]
  },
  {
   "cell_type": "code",
   "execution_count": 88,
   "id": "e9880cc0",
   "metadata": {},
   "outputs": [],
   "source": [
    "def linear_reg(X,y):\n",
    "    ones = np.ones(X.shape[0])\n",
    "    X = np.column_stack([ones,X])\n",
    "    XTX = X.T.dot(X)\n",
    "    XVX = np.linalg.inv(XTX) \n",
    "    w = XVX.dot(X.T).dot(y)\n",
    "    return w[0], w[1:]"
   ]
  },
  {
   "cell_type": "code",
   "execution_count": 89,
   "id": "2d26474b",
   "metadata": {},
   "outputs": [
    {
     "data": {
      "text/plain": [
       "(-419.9126602932141,\n",
       " array([ 1.30676226e+00, -5.02167857e+00, -5.59803112e-04, -4.07634897e-04,\n",
       "        -8.25470057e-03,  1.33371319e-03,  6.50203891e-04]))"
      ]
     },
     "execution_count": 89,
     "metadata": {},
     "output_type": "execute_result"
    }
   ],
   "source": [
    "linear_reg(X_train,y_train)"
   ]
  },
  {
   "cell_type": "code",
   "execution_count": 90,
   "id": "26abe476",
   "metadata": {},
   "outputs": [],
   "source": [
    "def RMSE(W_base, W, X, y):\n",
    "    y_pred = W_base + X@W\n",
    "    return np.sqrt(((y-y_pred)**2).mean())"
   ]
  },
  {
   "cell_type": "code",
   "execution_count": 91,
   "id": "c27293e6",
   "metadata": {},
   "outputs": [
    {
     "data": {
      "text/plain": [
       "0.6430337788397475"
      ]
     },
     "execution_count": 91,
     "metadata": {},
     "output_type": "execute_result"
    }
   ],
   "source": [
    "W0,W = linear_reg(X_train,y_train)\n",
    "RMSE(W0, W, X_valid, y_valid)"
   ]
  },
  {
   "cell_type": "code",
   "execution_count": 92,
   "id": "16c0dd4e",
   "metadata": {},
   "outputs": [],
   "source": [
    "#0.6430337788397475 #for fillna with zeros"
   ]
  },
  {
   "cell_type": "code",
   "execution_count": 93,
   "id": "16f032de",
   "metadata": {},
   "outputs": [],
   "source": [
    "def regularized_linear_reg(X, y, r = 0.01):\n",
    "    ones = np.ones(X.shape[0])\n",
    "    X = np.column_stack([ones,X])\n",
    "    \n",
    "    XTX = X.T.dot(X) \n",
    "    XTX = XTX + (r * np.eye(XTX.shape[0]))\n",
    "    XVX = np.linalg.inv(XTX) \n",
    "    w = XVX.dot(X.T).dot(y)\n",
    "    return w[0], w[1:]"
   ]
  },
  {
   "cell_type": "code",
   "execution_count": 94,
   "id": "4d564a7d",
   "metadata": {},
   "outputs": [
    {
     "data": {
      "text/plain": [
       "0.6557528427055406"
      ]
     },
     "execution_count": 94,
     "metadata": {},
     "output_type": "execute_result"
    }
   ],
   "source": [
    "W0,W = regularized_linear_reg(X_train,y_train)\n",
    "RMSE(W0, W, X_valid, y_valid)"
   ]
  },
  {
   "cell_type": "code",
   "execution_count": 95,
   "id": "3c1820ba",
   "metadata": {},
   "outputs": [
    {
     "name": "stdout",
     "output_type": "stream",
     "text": [
      "Regularization parameter: 0, RMSE: 0.6430337788397475 \n",
      "Regularization parameter: 1e-06, RMSE: 0.6430341157299516 \n",
      "Regularization parameter: 0.0001, RMSE: 0.6430723153437234 \n",
      "Regularization parameter: 0.001, RMSE: 0.6437669735059144 \n",
      "Regularization parameter: 0.01, RMSE: 0.6557528427055406 \n",
      "Regularization parameter: 0.1, RMSE: 0.6773299642422751 \n",
      "Regularization parameter: 1, RMSE: 0.6823116950157638 \n",
      "Regularization parameter: 5, RMSE: 0.6827915727842327 \n",
      "Regularization parameter: 10, RMSE: 0.6828430212100244 \n"
     ]
    }
   ],
   "source": [
    "\n",
    "r = [0, 0.000001, 0.0001, 0.001, 0.01, 0.1, 1, 5, 10]\n",
    "\n",
    "for i in r:\n",
    "    W0,W = regularized_linear_reg(X_train,y_train, i)\n",
    "    res = RMSE(W0, W, X_valid, y_valid)\n",
    "    print(f'Regularization parameter: {i}, RMSE: {res} ')"
   ]
  },
  {
   "cell_type": "code",
   "execution_count": 97,
   "id": "a89cd6a3",
   "metadata": {},
   "outputs": [
    {
     "data": {
      "text/plain": [
       "0.6536337650040558"
      ]
     },
     "execution_count": 97,
     "metadata": {},
     "output_type": "execute_result"
    }
   ],
   "source": [
    "W0,W = regularized_linear_reg(X_train,y_train, 0)\n",
    "RMSE(W0, W, X_test, y_test)"
   ]
  },
  {
   "cell_type": "code",
   "execution_count": 98,
   "id": "0f3fb986",
   "metadata": {},
   "outputs": [],
   "source": [
    "def prep(data, seed = 42):\n",
    "    X =  data[[\n",
    "    'latitude',\n",
    "    'longitude',\n",
    "    'minimum_nights',\n",
    "    'number_of_reviews',\n",
    "    'reviews_per_month',\n",
    "    'calculated_host_listings_count',\n",
    "    'availability_365'\n",
    "    ]]\n",
    "\n",
    "\n",
    "    y = data.price.values\n",
    "    \n",
    "    d_index = np.arange(len(X))\n",
    "    np.random.seed(seed)\n",
    "    np.random.shuffle(d_index)\n",
    "    \n",
    "    X_train = X.iloc[d_index[:n_train]].reset_index(drop=True)\n",
    "    X_valid = X.iloc[d_index[n_train :n_train + n_val]].reset_index(drop=True)\n",
    "    X_test  = X.iloc[d_index[n_train + n_val:]].reset_index(drop=True)\n",
    "    \n",
    "    y = np.log1p(y) #to reduce the impact of long tail of y histplot\n",
    "    y_train = y[d_index[:n_train]]\n",
    "    y_valid = y[d_index[n_train :n_train + n_val]]\n",
    "    y_test  = y[d_index[n_train + n_val:]]\n",
    "     \n",
    "    return X_train, X_valid, X_test, y_train, y_valid, y_test"
   ]
  },
  {
   "cell_type": "code",
   "execution_count": 103,
   "id": "a68fd380",
   "metadata": {},
   "outputs": [],
   "source": [
    "seed = [0, 1, 2, 3, 4, 5, 6, 7, 8, 9]\n",
    "result = []\n",
    "for i in seed:\n",
    "    X_train, X_valid, X_test, y_train, y_valid, y_test = prep(data, i)\n",
    "    W0,W = regularized_linear_reg(X_valid,y_valid, 0)\n",
    "    res = RMSE(W0, W, X_test, y_test)\n",
    "    result.append(res)"
   ]
  },
  {
   "cell_type": "code",
   "execution_count": 104,
   "id": "c9ffb94f",
   "metadata": {},
   "outputs": [
    {
     "data": {
      "text/plain": [
       "0.007"
      ]
     },
     "execution_count": 104,
     "metadata": {},
     "output_type": "execute_result"
    }
   ],
   "source": [
    "std = np.std(result)\n",
    "round(std, 3)"
   ]
  },
  {
   "cell_type": "code",
   "execution_count": 105,
   "id": "82c6a261",
   "metadata": {},
   "outputs": [
    {
     "data": {
      "text/plain": [
       "0.6472694737808051"
      ]
     },
     "execution_count": 105,
     "metadata": {},
     "output_type": "execute_result"
    }
   ],
   "source": [
    "\n",
    "X_train, X_valid, X_test, y_train, y_valid, y_test = prep(data, 9)\n",
    "W0,W = regularized_linear_reg(X_test,y_test, 0.001)\n",
    "RMSE(W0, W, X_test, y_test)"
   ]
  }
 ],
 "metadata": {
  "kernelspec": {
   "display_name": "Python 3",
   "language": "python",
   "name": "python3"
  },
  "language_info": {
   "codemirror_mode": {
    "name": "ipython",
    "version": 3
   },
   "file_extension": ".py",
   "mimetype": "text/x-python",
   "name": "python",
   "nbconvert_exporter": "python",
   "pygments_lexer": "ipython3",
   "version": "3.8.8"
  }
 },
 "nbformat": 4,
 "nbformat_minor": 5
}
