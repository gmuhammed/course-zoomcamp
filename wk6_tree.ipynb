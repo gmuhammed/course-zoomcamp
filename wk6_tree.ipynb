{
 "cells": [
  {
   "cell_type": "code",
   "execution_count": 46,
   "id": "5d6dae15",
   "metadata": {},
   "outputs": [],
   "source": [
    "import numpy as np\n",
    "import pandas as pd\n",
    "import matplotlib.pyplot as plt\n",
    "import seaborn as sns\n",
    "\n",
    "from sklearn.model_selection import train_test_split\n",
    "from sklearn.feature_extraction import DictVectorizer\n",
    "from sklearn.tree import DecisionTreeRegressor\n",
    "from sklearn.ensemble import RandomForestRegressor\n",
    "from sklearn.metrics import mean_squared_error"
   ]
  },
  {
   "cell_type": "code",
   "execution_count": 2,
   "id": "182b1a62",
   "metadata": {},
   "outputs": [],
   "source": [
    "data = pd.read_csv('New_York_City_Airbnb_Open_Data.csv')"
   ]
  },
  {
   "cell_type": "code",
   "execution_count": 3,
   "id": "9179e7fb",
   "metadata": {},
   "outputs": [],
   "source": [
    "data.fillna(0, inplace=True)"
   ]
  },
  {
   "cell_type": "code",
   "execution_count": 4,
   "id": "a8753614",
   "metadata": {},
   "outputs": [],
   "source": [
    "col= ['neighbourhood_group',\n",
    "    'room_type',\n",
    "    'latitude',\n",
    "    'longitude',\n",
    "    'minimum_nights',\n",
    "    'number_of_reviews','reviews_per_month',\n",
    "    'calculated_host_listings_count',\n",
    "    'availability_365']\n",
    "\n",
    "X = data[col]\n",
    "y = np.log1p(data.price)"
   ]
  },
  {
   "cell_type": "code",
   "execution_count": 20,
   "id": "312ff67f",
   "metadata": {},
   "outputs": [
    {
     "data": {
      "text/plain": [
       "((48895, 16), (48895, 9))"
      ]
     },
     "execution_count": 20,
     "metadata": {},
     "output_type": "execute_result"
    }
   ],
   "source": [
    "data.shape, X.shape"
   ]
  },
  {
   "cell_type": "code",
   "execution_count": 5,
   "id": "bc03199e",
   "metadata": {},
   "outputs": [
    {
     "data": {
      "text/plain": [
       "neighbourhood_group                object\n",
       "room_type                          object\n",
       "latitude                          float64\n",
       "longitude                         float64\n",
       "minimum_nights                      int64\n",
       "number_of_reviews                   int64\n",
       "reviews_per_month                 float64\n",
       "calculated_host_listings_count      int64\n",
       "availability_365                    int64\n",
       "dtype: object"
      ]
     },
     "execution_count": 5,
     "metadata": {},
     "output_type": "execute_result"
    }
   ],
   "source": [
    "X.dtypes"
   ]
  },
  {
   "cell_type": "code",
   "execution_count": 6,
   "id": "35638205",
   "metadata": {},
   "outputs": [],
   "source": [
    "num_col = ['latitude',\n",
    "    'longitude',\n",
    "    'minimum_nights',\n",
    "    'number_of_reviews','reviews_per_month',\n",
    "    'calculated_host_listings_count',\n",
    "    'availability_365']\n",
    "\n",
    "cat_col = ['neighbourhood_group','room_type']"
   ]
  },
  {
   "cell_type": "code",
   "execution_count": 32,
   "id": "3078365b",
   "metadata": {},
   "outputs": [],
   "source": [
    "X_train, X_test, y_train, y_test = train_test_split(X,y,test_size=0.4,random_state=1)\n",
    "X_val, X_test, y_val, y_test = train_test_split(X_test,y_test,test_size=0.5,random_state=1)"
   ]
  },
  {
   "cell_type": "code",
   "execution_count": 22,
   "id": "cd844675",
   "metadata": {},
   "outputs": [
    {
     "data": {
      "text/plain": [
       "(29337, 9)"
      ]
     },
     "execution_count": 22,
     "metadata": {},
     "output_type": "execute_result"
    }
   ],
   "source": [
    "X_train.shape"
   ]
  },
  {
   "cell_type": "code",
   "execution_count": 33,
   "id": "376d3167",
   "metadata": {},
   "outputs": [],
   "source": [
    "X_train_dict = X_train.to_dict(orient='records')\n",
    "dv = DictVectorizer(sparse=False)\n",
    "X_train = dv.fit_transform(X_train_dict)\n",
    "dv_col = dv.get_feature_names()\n",
    "X_train = pd.DataFrame(X_train, columns= dv_col)\n",
    "\n",
    "X_val_dict = X_val.to_dict(orient='records')\n",
    "X_val = dv.transform(X_val_dict)\n",
    "X_val = pd.DataFrame(X_val, columns=dv_col)\n",
    "\n",
    "X_test_dict = X_test.to_dict(orient='records')\n",
    "X_test = dv.transform(X_test_dict)\n",
    "X_test = pd.DataFrame(X_test, columns=dv_col)"
   ]
  },
  {
   "cell_type": "code",
   "execution_count": 43,
   "id": "59261fd8",
   "metadata": {},
   "outputs": [
    {
     "data": {
      "text/plain": [
       "['availability_365',\n",
       " 'calculated_host_listings_count',\n",
       " 'latitude',\n",
       " 'longitude',\n",
       " 'minimum_nights',\n",
       " 'neighbourhood_group=Bronx',\n",
       " 'neighbourhood_group=Brooklyn',\n",
       " 'neighbourhood_group=Manhattan',\n",
       " 'neighbourhood_group=Queens',\n",
       " 'neighbourhood_group=Staten Island',\n",
       " 'number_of_reviews',\n",
       " 'reviews_per_month',\n",
       " 'room_type=Entire home/apt',\n",
       " 'room_type=Private room',\n",
       " 'room_type=Shared room']"
      ]
     },
     "execution_count": 43,
     "metadata": {},
     "output_type": "execute_result"
    }
   ],
   "source": [
    "list(X_train.columns)"
   ]
  },
  {
   "cell_type": "code",
   "execution_count": 35,
   "id": "defd980b",
   "metadata": {},
   "outputs": [
    {
     "data": {
      "text/plain": [
       "DecisionTreeRegressor(max_depth=1)"
      ]
     },
     "execution_count": 35,
     "metadata": {},
     "output_type": "execute_result"
    }
   ],
   "source": [
    "dt = DecisionTreeRegressor(max_depth=1)\n",
    "dt.fit(X_train,y_train)"
   ]
  },
  {
   "cell_type": "code",
   "execution_count": 45,
   "id": "b44b2f52",
   "metadata": {},
   "outputs": [
    {
     "name": "stdout",
     "output_type": "stream",
     "text": [
      "|--- room_type=Entire home/apt <= 0.50\n",
      "|   |--- value: [4.29]\n",
      "|--- room_type=Entire home/apt >  0.50\n",
      "|   |--- value: [5.15]\n",
      "\n"
     ]
    }
   ],
   "source": [
    "from sklearn.tree import export_text\n",
    "print(export_text(dt,feature_names = dv_col))"
   ]
  },
  {
   "cell_type": "code",
   "execution_count": 48,
   "id": "d6ae5856",
   "metadata": {},
   "outputs": [],
   "source": [
    "from sklearn.ensemble import RandomForestRegressor\n",
    "rf = RandomForestRegressor(n_estimators=10,random_state=1,n_jobs=-1)\n",
    "rf.fit(X_train,y_train)\n",
    "rf_val_pred = rf.predict(X_val)\n"
   ]
  },
  {
   "cell_type": "code",
   "execution_count": 50,
   "id": "bd5df400",
   "metadata": {},
   "outputs": [
    {
     "data": {
      "text/plain": [
       "0.466902911117568"
      ]
     },
     "execution_count": 50,
     "metadata": {},
     "output_type": "execute_result"
    }
   ],
   "source": [
    "np.sqrt(mean_squared_error(rf_val_pred, y_val))"
   ]
  },
  {
   "cell_type": "code",
   "execution_count": 71,
   "id": "58c84d52",
   "metadata": {},
   "outputs": [],
   "source": [
    "params = list(range(10,200,10))\n",
    "scores = []\n",
    "for i in params:\n",
    "    rf = RandomForestRegressor(n_estimators=i,random_state=1,n_jobs=-1)\n",
    "    rf.fit(X_train,y_train)\n",
    "    rf_val_pred = rf.predict(X_val)\n",
    "    rmse = np.sqrt(mean_squared_error(rf_val_pred, y_val))\n",
    "    scores.append((i,rmse))"
   ]
  },
  {
   "cell_type": "code",
   "execution_count": 70,
   "id": "43e1ac4a",
   "metadata": {},
   "outputs": [
    {
     "data": {
      "text/plain": [
       "<AxesSubplot:xlabel='n_estimator'>"
      ]
     },
     "execution_count": 70,
     "metadata": {},
     "output_type": "execute_result"
    },
    {
     "data": {
      "image/png": "[encoded data removed]",
      "text/plain": [
       "<Figure size 432x288 with 1 Axes>"
      ]
     },
     "metadata": {
      "needs_background": "light"
     },
     "output_type": "display_data"
    }
   ],
   "source": [
    "pd.DataFrame(scores,columns=['n_estimator', 'rmse']).plot(x='n_estimator', y='rmse' )\n"
   ]
  },
  {
   "cell_type": "code",
   "execution_count": null,
   "id": "d7b93823",
   "metadata": {},
   "outputs": [],
   "source": [
    "pd.DataFrame(scores,columns=['n_estimator', 'rmse']).plot"
   ]
  },
  {
   "cell_type": "code",
   "execution_count": 79,
   "id": "73554c90",
   "metadata": {},
   "outputs": [],
   "source": [
    "max_depths = [10, 15, 20, 25]\n",
    "scores2  = []\n",
    "for j in max_depths:\n",
    "    \n",
    "    for i in params:\n",
    "        rf = RandomForestRegressor(max_depth=j,n_estimators=i,random_state=1,n_jobs=-1)\n",
    "        rf.fit(X_train,y_train)\n",
    "        rf_val_pred = rf.predict(X_val)\n",
    "        rmse = np.sqrt(mean_squared_error(rf_val_pred, y_val))\n",
    "        scores2.append((j,i,rmse))"
   ]
  },
  {
   "cell_type": "code",
   "execution_count": 81,
   "id": "41295949",
   "metadata": {},
   "outputs": [
    {
     "data": {
      "text/plain": [
       "<matplotlib.legend.Legend at 0x2727bf80a30>"
      ]
     },
     "execution_count": 81,
     "metadata": {},
     "output_type": "execute_result"
    },
    {
     "data": {
      "image/png": "[encoded data removed]",
      "text/plain": [
       "<Figure size 432x288 with 1 Axes>"
      ]
     },
     "metadata": {
      "needs_background": "light"
     },
     "output_type": "display_data"
    }
   ],
   "source": [
    "df_score2 = pd.DataFrame(scores2,columns= ['max_depth','n_estimator', 'rmse'])\n",
    "for j in max_depths:\n",
    "    df_subset = df_score2 [df_score2.max_depth==j]\n",
    "    plt.plot(df_subset.n_estimator,df_subset.rmse, label = f'max_depth:{j}')\n",
    "    \n",
    "plt.legend()"
   ]
  },
  {
   "cell_type": "code",
   "execution_count": 84,
   "id": "050c18a2",
   "metadata": {},
   "outputs": [
    {
     "data": {
      "text/plain": [
       "RandomForestRegressor(max_depth=20, n_estimators=10, n_jobs=-1, random_state=1)"
      ]
     },
     "execution_count": 84,
     "metadata": {},
     "output_type": "execute_result"
    }
   ],
   "source": [
    "rf2 = RandomForestRegressor(n_estimators=10,max_depth=20,random_state=1,n_jobs=-1)\n",
    "rf2.fit(X_train, y_train)"
   ]
  },
  {
   "cell_type": "code",
   "execution_count": 119,
   "id": "6df6c16c",
   "metadata": {},
   "outputs": [
    {
     "data": {
      "text/html": [
       "<div>\n",
       "<style scoped>\n",
       "    .dataframe tbody tr th:only-of-type {\n",
       "        vertical-align: middle;\n",
       "    }\n",
       "\n",
       "    .dataframe tbody tr th {\n",
       "        vertical-align: top;\n",
       "    }\n",
       "\n",
       "    .dataframe thead th {\n",
       "        text-align: right;\n",
       "    }\n",
       "</style>\n",
       "<table border=\"1\" class=\"dataframe\">\n",
       "  <thead>\n",
       "    <tr style=\"text-align: right;\">\n",
       "      <th></th>\n",
       "      <th>feature_names</th>\n",
       "      <th>feature_importances</th>\n",
       "    </tr>\n",
       "  </thead>\n",
       "  <tbody>\n",
       "    <tr>\n",
       "      <th>0</th>\n",
       "      <td>availability_365</td>\n",
       "      <td>0.080650</td>\n",
       "    </tr>\n",
       "    <tr>\n",
       "      <th>1</th>\n",
       "      <td>calculated_host_listings_count</td>\n",
       "      <td>0.032574</td>\n",
       "    </tr>\n",
       "    <tr>\n",
       "      <th>2</th>\n",
       "      <td>latitude</td>\n",
       "      <td>0.146983</td>\n",
       "    </tr>\n",
       "    <tr>\n",
       "      <th>3</th>\n",
       "      <td>longitude</td>\n",
       "      <td>0.158823</td>\n",
       "    </tr>\n",
       "    <tr>\n",
       "      <th>4</th>\n",
       "      <td>minimum_nights</td>\n",
       "      <td>0.050588</td>\n",
       "    </tr>\n",
       "    <tr>\n",
       "      <th>5</th>\n",
       "      <td>neighbourhood_group=Bronx</td>\n",
       "      <td>0.000263</td>\n",
       "    </tr>\n",
       "    <tr>\n",
       "      <th>6</th>\n",
       "      <td>neighbourhood_group=Brooklyn</td>\n",
       "      <td>0.001051</td>\n",
       "    </tr>\n",
       "    <tr>\n",
       "      <th>7</th>\n",
       "      <td>neighbourhood_group=Manhattan</td>\n",
       "      <td>0.028138</td>\n",
       "    </tr>\n",
       "    <tr>\n",
       "      <th>8</th>\n",
       "      <td>neighbourhood_group=Queens</td>\n",
       "      <td>0.001384</td>\n",
       "    </tr>\n",
       "    <tr>\n",
       "      <th>9</th>\n",
       "      <td>neighbourhood_group=Staten Island</td>\n",
       "      <td>0.000080</td>\n",
       "    </tr>\n",
       "    <tr>\n",
       "      <th>10</th>\n",
       "      <td>number_of_reviews</td>\n",
       "      <td>0.043872</td>\n",
       "    </tr>\n",
       "    <tr>\n",
       "      <th>11</th>\n",
       "      <td>reviews_per_month</td>\n",
       "      <td>0.055654</td>\n",
       "    </tr>\n",
       "    <tr>\n",
       "      <th>12</th>\n",
       "      <td>room_type=Entire home/apt</td>\n",
       "      <td>0.391285</td>\n",
       "    </tr>\n",
       "    <tr>\n",
       "      <th>13</th>\n",
       "      <td>room_type=Private room</td>\n",
       "      <td>0.005595</td>\n",
       "    </tr>\n",
       "    <tr>\n",
       "      <th>14</th>\n",
       "      <td>room_type=Shared room</td>\n",
       "      <td>0.003062</td>\n",
       "    </tr>\n",
       "  </tbody>\n",
       "</table>\n",
       "</div>"
      ],
      "text/plain": [
       "                        feature_names  feature_importances\n",
       "0                    availability_365             0.080650\n",
       "1      calculated_host_listings_count             0.032574\n",
       "2                            latitude             0.146983\n",
       "3                           longitude             0.158823\n",
       "4                      minimum_nights             0.050588\n",
       "5           neighbourhood_group=Bronx             0.000263\n",
       "6        neighbourhood_group=Brooklyn             0.001051\n",
       "7       neighbourhood_group=Manhattan             0.028138\n",
       "8          neighbourhood_group=Queens             0.001384\n",
       "9   neighbourhood_group=Staten Island             0.000080\n",
       "10                  number_of_reviews             0.043872\n",
       "11                  reviews_per_month             0.055654\n",
       "12          room_type=Entire home/apt             0.391285\n",
       "13             room_type=Private room             0.005595\n",
       "14              room_type=Shared room             0.003062"
      ]
     },
     "execution_count": 119,
     "metadata": {},
     "output_type": "execute_result"
    }
   ],
   "source": [
    "df_feature_importances= pd.DataFrame({'feature_names': dv.feature_names_,\n",
    "                                      'feature_importances':rf2.feature_importances_})\n",
    "df_feature_importances"
   ]
  },
  {
   "cell_type": "code",
   "execution_count": 124,
   "id": "070a1cd6",
   "metadata": {},
   "outputs": [
    {
     "data": {
      "text/plain": [
       "feature_names          room_type=Entire home/apt\n",
       "feature_importances                     0.391285\n",
       "Name: 12, dtype: object"
      ]
     },
     "execution_count": 124,
     "metadata": {},
     "output_type": "execute_result"
    }
   ],
   "source": [
    "df_feature_importances.loc[df_feature_importances['feature_importances'].idxmax()]"
   ]
  },
  {
   "cell_type": "code",
   "execution_count": 130,
   "id": "50304ddc",
   "metadata": {},
   "outputs": [
    {
     "name": "stdout",
     "output_type": "stream",
     "text": [
      "Requirement already satisfied: xgboost in c:\\users\\gbadegesin muhammed\\anaconda2\\envs\\py3_env\\lib\\site-packages (1.4.2)\n",
      "Requirement already satisfied: scipy in c:\\users\\gbadegesin muhammed\\anaconda2\\envs\\py3_env\\lib\\site-packages (from xgboost) (1.4.1)\n",
      "Requirement already satisfied: numpy in c:\\users\\gbadegesin muhammed\\anaconda2\\envs\\py3_env\\lib\\site-packages (from xgboost) (1.18.5)\n"
     ]
    }
   ],
   "source": [
    "!pip install  xgboost"
   ]
  },
  {
   "cell_type": "code",
   "execution_count": 132,
   "id": "7dbd598f",
   "metadata": {},
   "outputs": [],
   "source": [
    "import xgboost as xgb\n",
    "features = dv.feature_names_\n",
    "dtrain = xgb.DMatrix(X_train, label= y_train, feature_names= features)\n",
    "dval = xgb.DMatrix(X_val, label= y_val, feature_names= features)"
   ]
  },
  {
   "cell_type": "code",
   "execution_count": 133,
   "id": "9a5ee851",
   "metadata": {},
   "outputs": [],
   "source": [
    "watch_lst = [(dtrain, 'train'),(dval,'val')]"
   ]
  },
  {
   "cell_type": "code",
   "execution_count": 138,
   "id": "59ebcecb",
   "metadata": {},
   "outputs": [],
   "source": [
    "xgb_params = {\n",
    "    'eta': 0.01, \n",
    "    'max_depth': 6,\n",
    "    'min_child_weight': 1,\n",
    "    \n",
    "    'objective': 'reg:squarederror',\n",
    "    'nthread': 8,\n",
    "    \n",
    "    'seed': 1,\n",
    "    'verbosity': 1,\n",
    "}"
   ]
  },
  {
   "cell_type": "code",
   "execution_count": 139,
   "id": "0622bab6",
   "metadata": {},
   "outputs": [
    {
     "name": "stdout",
     "output_type": "stream",
     "text": [
      "[0]\ttrain-rmse:4.25190\tval-rmse:4.25268\n",
      "[1]\ttrain-rmse:4.20996\tval-rmse:4.21075\n",
      "[2]\ttrain-rmse:4.16845\tval-rmse:4.16925\n",
      "[3]\ttrain-rmse:4.12736\tval-rmse:4.12817\n",
      "[4]\ttrain-rmse:4.08667\tval-rmse:4.08750\n",
      "[5]\ttrain-rmse:4.04640\tval-rmse:4.04726\n",
      "[6]\ttrain-rmse:4.00654\tval-rmse:4.00741\n",
      "[7]\ttrain-rmse:3.96708\tval-rmse:3.96798\n",
      "[8]\ttrain-rmse:3.92803\tval-rmse:3.92894\n",
      "[9]\ttrain-rmse:3.88937\tval-rmse:3.89030\n",
      "[10]\ttrain-rmse:3.85109\tval-rmse:3.85206\n",
      "[11]\ttrain-rmse:3.81321\tval-rmse:3.81418\n",
      "[12]\ttrain-rmse:3.77571\tval-rmse:3.77671\n",
      "[13]\ttrain-rmse:3.73860\tval-rmse:3.73960\n",
      "[14]\ttrain-rmse:3.70185\tval-rmse:3.70288\n",
      "[15]\ttrain-rmse:3.66548\tval-rmse:3.66652\n",
      "[16]\ttrain-rmse:3.62948\tval-rmse:3.63053\n",
      "[17]\ttrain-rmse:3.59385\tval-rmse:3.59492\n",
      "[18]\ttrain-rmse:3.55857\tval-rmse:3.55966\n",
      "[19]\ttrain-rmse:3.52366\tval-rmse:3.52477\n",
      "[20]\ttrain-rmse:3.48910\tval-rmse:3.49023\n",
      "[21]\ttrain-rmse:3.45488\tval-rmse:3.45605\n",
      "[22]\ttrain-rmse:3.42102\tval-rmse:3.42220\n",
      "[23]\ttrain-rmse:3.38750\tval-rmse:3.38871\n",
      "[24]\ttrain-rmse:3.35432\tval-rmse:3.35555\n",
      "[25]\ttrain-rmse:3.32149\tval-rmse:3.32272\n",
      "[26]\ttrain-rmse:3.28898\tval-rmse:3.29024\n",
      "[27]\ttrain-rmse:3.25680\tval-rmse:3.25808\n",
      "[28]\ttrain-rmse:3.22495\tval-rmse:3.22626\n",
      "[29]\ttrain-rmse:3.19343\tval-rmse:3.19475\n",
      "[30]\ttrain-rmse:3.16222\tval-rmse:3.16357\n",
      "[31]\ttrain-rmse:3.13134\tval-rmse:3.13270\n",
      "[32]\ttrain-rmse:3.10077\tval-rmse:3.10215\n",
      "[33]\ttrain-rmse:3.07051\tval-rmse:3.07191\n",
      "[34]\ttrain-rmse:3.04056\tval-rmse:3.04198\n",
      "[35]\ttrain-rmse:3.01091\tval-rmse:3.01235\n",
      "[36]\ttrain-rmse:2.98157\tval-rmse:2.98303\n",
      "[37]\ttrain-rmse:2.95252\tval-rmse:2.95400\n",
      "[38]\ttrain-rmse:2.92377\tval-rmse:2.92528\n",
      "[39]\ttrain-rmse:2.89532\tval-rmse:2.89685\n",
      "[40]\ttrain-rmse:2.86716\tval-rmse:2.86871\n",
      "[41]\ttrain-rmse:2.83928\tval-rmse:2.84085\n",
      "[42]\ttrain-rmse:2.81169\tval-rmse:2.81328\n",
      "[43]\ttrain-rmse:2.78439\tval-rmse:2.78600\n",
      "[44]\ttrain-rmse:2.75736\tval-rmse:2.75898\n",
      "[45]\ttrain-rmse:2.73061\tval-rmse:2.73225\n",
      "[46]\ttrain-rmse:2.70414\tval-rmse:2.70580\n",
      "[47]\ttrain-rmse:2.67793\tval-rmse:2.67961\n",
      "[48]\ttrain-rmse:2.65200\tval-rmse:2.65371\n",
      "[49]\ttrain-rmse:2.62633\tval-rmse:2.62807\n",
      "[50]\ttrain-rmse:2.60093\tval-rmse:2.60269\n",
      "[51]\ttrain-rmse:2.57578\tval-rmse:2.57758\n",
      "[52]\ttrain-rmse:2.55089\tval-rmse:2.55272\n",
      "[53]\ttrain-rmse:2.52627\tval-rmse:2.52812\n",
      "[54]\ttrain-rmse:2.50189\tval-rmse:2.50375\n",
      "[55]\ttrain-rmse:2.47777\tval-rmse:2.47966\n",
      "[56]\ttrain-rmse:2.45389\tval-rmse:2.45582\n",
      "[57]\ttrain-rmse:2.43025\tval-rmse:2.43222\n",
      "[58]\ttrain-rmse:2.40687\tval-rmse:2.40886\n",
      "[59]\ttrain-rmse:2.38372\tval-rmse:2.38574\n",
      "[60]\ttrain-rmse:2.36082\tval-rmse:2.36287\n",
      "[61]\ttrain-rmse:2.33814\tval-rmse:2.34021\n",
      "[62]\ttrain-rmse:2.31571\tval-rmse:2.31781\n",
      "[63]\ttrain-rmse:2.29350\tval-rmse:2.29564\n",
      "[64]\ttrain-rmse:2.27153\tval-rmse:2.27369\n",
      "[65]\ttrain-rmse:2.24979\tval-rmse:2.25198\n",
      "[66]\ttrain-rmse:2.22826\tval-rmse:2.23048\n",
      "[67]\ttrain-rmse:2.20697\tval-rmse:2.20922\n",
      "[68]\ttrain-rmse:2.18589\tval-rmse:2.18816\n",
      "[69]\ttrain-rmse:2.16503\tval-rmse:2.16733\n",
      "[70]\ttrain-rmse:2.14440\tval-rmse:2.14673\n",
      "[71]\ttrain-rmse:2.12397\tval-rmse:2.12633\n",
      "[72]\ttrain-rmse:2.10375\tval-rmse:2.10616\n",
      "[73]\ttrain-rmse:2.08375\tval-rmse:2.08618\n",
      "[74]\ttrain-rmse:2.06396\tval-rmse:2.06642\n",
      "[75]\ttrain-rmse:2.04438\tval-rmse:2.04688\n",
      "[76]\ttrain-rmse:2.02499\tval-rmse:2.02752\n",
      "[77]\ttrain-rmse:2.00581\tval-rmse:2.00839\n",
      "[78]\ttrain-rmse:1.98683\tval-rmse:1.98943\n",
      "[79]\ttrain-rmse:1.96805\tval-rmse:1.97069\n",
      "[80]\ttrain-rmse:1.94947\tval-rmse:1.95213\n",
      "[81]\ttrain-rmse:1.93108\tval-rmse:1.93379\n",
      "[82]\ttrain-rmse:1.91288\tval-rmse:1.91562\n",
      "[83]\ttrain-rmse:1.89488\tval-rmse:1.89767\n",
      "[84]\ttrain-rmse:1.87706\tval-rmse:1.87988\n",
      "[85]\ttrain-rmse:1.85944\tval-rmse:1.86230\n",
      "[86]\ttrain-rmse:1.84200\tval-rmse:1.84490\n",
      "[87]\ttrain-rmse:1.82474\tval-rmse:1.82768\n",
      "[88]\ttrain-rmse:1.80766\tval-rmse:1.81062\n",
      "[89]\ttrain-rmse:1.79077\tval-rmse:1.79377\n",
      "[90]\ttrain-rmse:1.77406\tval-rmse:1.77710\n",
      "[91]\ttrain-rmse:1.75751\tval-rmse:1.76060\n",
      "[92]\ttrain-rmse:1.74115\tval-rmse:1.74428\n",
      "[93]\ttrain-rmse:1.72496\tval-rmse:1.72813\n",
      "[94]\ttrain-rmse:1.70894\tval-rmse:1.71215\n",
      "[95]\ttrain-rmse:1.69309\tval-rmse:1.69633\n",
      "[96]\ttrain-rmse:1.67741\tval-rmse:1.68070\n",
      "[97]\ttrain-rmse:1.66190\tval-rmse:1.66522\n",
      "[98]\ttrain-rmse:1.64655\tval-rmse:1.64992\n",
      "[99]\ttrain-rmse:1.63136\tval-rmse:1.63478\n"
     ]
    },
    {
     "data": {
      "text/plain": [
       "<xgboost.core.Booster at 0x2720a1403a0>"
      ]
     },
     "execution_count": 139,
     "metadata": {},
     "output_type": "execute_result"
    }
   ],
   "source": [
    "xgb.train(xgb_params, dtrain, evals = watch_lst, num_boost_round = 100  )"
   ]
  },
  {
   "cell_type": "code",
   "execution_count": null,
   "id": "92361112",
   "metadata": {},
   "outputs": [],
   "source": []
  }
 ],
 "metadata": {
  "kernelspec": {
   "display_name": "Python 3",
   "language": "python",
   "name": "python3"
  },
  "language_info": {
   "codemirror_mode": {
    "name": "ipython",
    "version": 3
   },
   "file_extension": ".py",
   "mimetype": "text/x-python",
   "name": "python",
   "nbconvert_exporter": "python",
   "pygments_lexer": "ipython3",
   "version": "3.8.8"
  }
 },
 "nbformat": 4,
 "nbformat_minor": 5
}
