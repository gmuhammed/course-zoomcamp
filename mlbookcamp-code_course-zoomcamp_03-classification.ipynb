{
 "cells": [
  {
   "cell_type": "code",
   "execution_count": 80,
   "id": "d3a8ff2d",
   "metadata": {},
   "outputs": [],
   "source": [
    "import pandas as pd\n",
    "import numpy as np\n",
    "from sklearn.model_selection import train_test_split\n",
    "from sklearn.metrics import mutual_info_score\n",
    "from sklearn.linear_model import LogisticRegression\n",
    "from sklearn.feature_extraction import DictVectorizer\n",
    "from sklearn.metrics import accuracy_score"
   ]
  },
  {
   "cell_type": "code",
   "execution_count": 81,
   "id": "0b0c6e37",
   "metadata": {},
   "outputs": [],
   "source": [
    "data = pd.read_csv('New_York_City_Airbnb_Open_Data.csv')"
   ]
  },
  {
   "cell_type": "code",
   "execution_count": 82,
   "id": "7c13e348",
   "metadata": {},
   "outputs": [
    {
     "data": {
      "text/html": [
       "<div>\n",
       "<style scoped>\n",
       "    .dataframe tbody tr th:only-of-type {\n",
       "        vertical-align: middle;\n",
       "    }\n",
       "\n",
       "    .dataframe tbody tr th {\n",
       "        vertical-align: top;\n",
       "    }\n",
       "\n",
       "    .dataframe thead th {\n",
       "        text-align: right;\n",
       "    }\n",
       "</style>\n",
       "<table border=\"1\" class=\"dataframe\">\n",
       "  <thead>\n",
       "    <tr style=\"text-align: right;\">\n",
       "      <th></th>\n",
       "      <th>id</th>\n",
       "      <th>name</th>\n",
       "      <th>host_id</th>\n",
       "      <th>host_name</th>\n",
       "      <th>neighbourhood_group</th>\n",
       "      <th>neighbourhood</th>\n",
       "      <th>latitude</th>\n",
       "      <th>longitude</th>\n",
       "      <th>room_type</th>\n",
       "      <th>price</th>\n",
       "      <th>minimum_nights</th>\n",
       "      <th>number_of_reviews</th>\n",
       "      <th>last_review</th>\n",
       "      <th>reviews_per_month</th>\n",
       "      <th>calculated_host_listings_count</th>\n",
       "      <th>availability_365</th>\n",
       "    </tr>\n",
       "  </thead>\n",
       "  <tbody>\n",
       "    <tr>\n",
       "      <th>0</th>\n",
       "      <td>2539</td>\n",
       "      <td>Clean &amp; quiet apt home by the park</td>\n",
       "      <td>2787</td>\n",
       "      <td>John</td>\n",
       "      <td>Brooklyn</td>\n",
       "      <td>Kensington</td>\n",
       "      <td>40.64749</td>\n",
       "      <td>-73.97237</td>\n",
       "      <td>Private room</td>\n",
       "      <td>149</td>\n",
       "      <td>1</td>\n",
       "      <td>9</td>\n",
       "      <td>2018-10-19</td>\n",
       "      <td>0.21</td>\n",
       "      <td>6</td>\n",
       "      <td>365</td>\n",
       "    </tr>\n",
       "    <tr>\n",
       "      <th>1</th>\n",
       "      <td>2595</td>\n",
       "      <td>Skylit Midtown Castle</td>\n",
       "      <td>2845</td>\n",
       "      <td>Jennifer</td>\n",
       "      <td>Manhattan</td>\n",
       "      <td>Midtown</td>\n",
       "      <td>40.75362</td>\n",
       "      <td>-73.98377</td>\n",
       "      <td>Entire home/apt</td>\n",
       "      <td>225</td>\n",
       "      <td>1</td>\n",
       "      <td>45</td>\n",
       "      <td>2019-05-21</td>\n",
       "      <td>0.38</td>\n",
       "      <td>2</td>\n",
       "      <td>355</td>\n",
       "    </tr>\n",
       "    <tr>\n",
       "      <th>2</th>\n",
       "      <td>3647</td>\n",
       "      <td>THE VILLAGE OF HARLEM....NEW YORK !</td>\n",
       "      <td>4632</td>\n",
       "      <td>Elisabeth</td>\n",
       "      <td>Manhattan</td>\n",
       "      <td>Harlem</td>\n",
       "      <td>40.80902</td>\n",
       "      <td>-73.94190</td>\n",
       "      <td>Private room</td>\n",
       "      <td>150</td>\n",
       "      <td>3</td>\n",
       "      <td>0</td>\n",
       "      <td>NaN</td>\n",
       "      <td>NaN</td>\n",
       "      <td>1</td>\n",
       "      <td>365</td>\n",
       "    </tr>\n",
       "    <tr>\n",
       "      <th>3</th>\n",
       "      <td>3831</td>\n",
       "      <td>Cozy Entire Floor of Brownstone</td>\n",
       "      <td>4869</td>\n",
       "      <td>LisaRoxanne</td>\n",
       "      <td>Brooklyn</td>\n",
       "      <td>Clinton Hill</td>\n",
       "      <td>40.68514</td>\n",
       "      <td>-73.95976</td>\n",
       "      <td>Entire home/apt</td>\n",
       "      <td>89</td>\n",
       "      <td>1</td>\n",
       "      <td>270</td>\n",
       "      <td>2019-07-05</td>\n",
       "      <td>4.64</td>\n",
       "      <td>1</td>\n",
       "      <td>194</td>\n",
       "    </tr>\n",
       "    <tr>\n",
       "      <th>4</th>\n",
       "      <td>5022</td>\n",
       "      <td>Entire Apt: Spacious Studio/Loft by central park</td>\n",
       "      <td>7192</td>\n",
       "      <td>Laura</td>\n",
       "      <td>Manhattan</td>\n",
       "      <td>East Harlem</td>\n",
       "      <td>40.79851</td>\n",
       "      <td>-73.94399</td>\n",
       "      <td>Entire home/apt</td>\n",
       "      <td>80</td>\n",
       "      <td>10</td>\n",
       "      <td>9</td>\n",
       "      <td>2018-11-19</td>\n",
       "      <td>0.10</td>\n",
       "      <td>1</td>\n",
       "      <td>0</td>\n",
       "    </tr>\n",
       "  </tbody>\n",
       "</table>\n",
       "</div>"
      ],
      "text/plain": [
       "     id                                              name  host_id  \\\n",
       "0  2539                Clean & quiet apt home by the park     2787   \n",
       "1  2595                             Skylit Midtown Castle     2845   \n",
       "2  3647               THE VILLAGE OF HARLEM....NEW YORK !     4632   \n",
       "3  3831                   Cozy Entire Floor of Brownstone     4869   \n",
       "4  5022  Entire Apt: Spacious Studio/Loft by central park     7192   \n",
       "\n",
       "     host_name neighbourhood_group neighbourhood  latitude  longitude  \\\n",
       "0         John            Brooklyn    Kensington  40.64749  -73.97237   \n",
       "1     Jennifer           Manhattan       Midtown  40.75362  -73.98377   \n",
       "2    Elisabeth           Manhattan        Harlem  40.80902  -73.94190   \n",
       "3  LisaRoxanne            Brooklyn  Clinton Hill  40.68514  -73.95976   \n",
       "4        Laura           Manhattan   East Harlem  40.79851  -73.94399   \n",
       "\n",
       "         room_type  price  minimum_nights  number_of_reviews last_review  \\\n",
       "0     Private room    149               1                  9  2018-10-19   \n",
       "1  Entire home/apt    225               1                 45  2019-05-21   \n",
       "2     Private room    150               3                  0         NaN   \n",
       "3  Entire home/apt     89               1                270  2019-07-05   \n",
       "4  Entire home/apt     80              10                  9  2018-11-19   \n",
       "\n",
       "   reviews_per_month  calculated_host_listings_count  availability_365  \n",
       "0               0.21                               6               365  \n",
       "1               0.38                               2               355  \n",
       "2                NaN                               1               365  \n",
       "3               4.64                               1               194  \n",
       "4               0.10                               1                 0  "
      ]
     },
     "execution_count": 82,
     "metadata": {},
     "output_type": "execute_result"
    }
   ],
   "source": [
    "data.head()"
   ]
  },
  {
   "cell_type": "code",
   "execution_count": 83,
   "id": "b3ee2660",
   "metadata": {},
   "outputs": [
    {
     "data": {
      "text/plain": [
       "Index(['id', 'name', 'host_id', 'host_name', 'neighbourhood_group',\n",
       "       'neighbourhood', 'latitude', 'longitude', 'room_type', 'price',\n",
       "       'minimum_nights', 'number_of_reviews', 'last_review',\n",
       "       'reviews_per_month', 'calculated_host_listings_count',\n",
       "       'availability_365'],\n",
       "      dtype='object')"
      ]
     },
     "execution_count": 83,
     "metadata": {},
     "output_type": "execute_result"
    }
   ],
   "source": [
    "data.columns"
   ]
  },
  {
   "cell_type": "code",
   "execution_count": 84,
   "id": "9da67884",
   "metadata": {},
   "outputs": [
    {
     "data": {
      "text/plain": [
       "id                                    0\n",
       "name                                 16\n",
       "host_id                               0\n",
       "host_name                            21\n",
       "neighbourhood_group                   0\n",
       "neighbourhood                         0\n",
       "latitude                              0\n",
       "longitude                             0\n",
       "room_type                             0\n",
       "price                                 0\n",
       "minimum_nights                        0\n",
       "number_of_reviews                     0\n",
       "last_review                       10052\n",
       "reviews_per_month                 10052\n",
       "calculated_host_listings_count        0\n",
       "availability_365                      0\n",
       "dtype: int64"
      ]
     },
     "execution_count": 84,
     "metadata": {},
     "output_type": "execute_result"
    }
   ],
   "source": [
    "data.isnull().sum()"
   ]
  },
  {
   "cell_type": "code",
   "execution_count": 85,
   "id": "2b61c6fc",
   "metadata": {},
   "outputs": [],
   "source": [
    "data.reviews_per_month.fillna(data.reviews_per_month.mean(), inplace=True)"
   ]
  },
  {
   "cell_type": "code",
   "execution_count": 86,
   "id": "c7180cea",
   "metadata": {},
   "outputs": [
    {
     "data": {
      "text/plain": [
       "Manhattan        21661\n",
       "Brooklyn         20104\n",
       "Queens            5666\n",
       "Bronx             1091\n",
       "Staten Island      373\n",
       "Name: neighbourhood_group, dtype: int64"
      ]
     },
     "execution_count": 86,
     "metadata": {},
     "output_type": "execute_result"
    }
   ],
   "source": [
    "data.neighbourhood_group.value_counts()"
   ]
  },
  {
   "cell_type": "code",
   "execution_count": 87,
   "id": "9b4b962b",
   "metadata": {},
   "outputs": [],
   "source": [
    "y = (data.price.values > 152).astype(int)\n",
    "X= data.drop(['price','id','host_name', 'name','host_id','neighbourhood', 'last_review'], axis=1)"
   ]
  },
  {
   "cell_type": "code",
   "execution_count": 88,
   "id": "48465bd4",
   "metadata": {},
   "outputs": [
    {
     "data": {
      "text/plain": [
       "array([0, 1, 0, 0, 0, 1, 0, 0, 0, 0])"
      ]
     },
     "execution_count": 88,
     "metadata": {},
     "output_type": "execute_result"
    }
   ],
   "source": [
    "y[:10]"
   ]
  },
  {
   "cell_type": "code",
   "execution_count": 89,
   "id": "f94a8a0a",
   "metadata": {},
   "outputs": [],
   "source": [
    "X_train, X_test, y_train, y_test = train_test_split(X,y,random_state=42,test_size=0.4)\n",
    "X_valid, X_test, y_valid, y_test = train_test_split(X,y,random_state=42,test_size=0.5)"
   ]
  },
  {
   "cell_type": "code",
   "execution_count": 90,
   "id": "939f5830",
   "metadata": {},
   "outputs": [
    {
     "data": {
      "text/html": [
       "<div>\n",
       "<style scoped>\n",
       "    .dataframe tbody tr th:only-of-type {\n",
       "        vertical-align: middle;\n",
       "    }\n",
       "\n",
       "    .dataframe tbody tr th {\n",
       "        vertical-align: top;\n",
       "    }\n",
       "\n",
       "    .dataframe thead th {\n",
       "        text-align: right;\n",
       "    }\n",
       "</style>\n",
       "<table border=\"1\" class=\"dataframe\">\n",
       "  <thead>\n",
       "    <tr style=\"text-align: right;\">\n",
       "      <th></th>\n",
       "      <th>latitude</th>\n",
       "      <th>longitude</th>\n",
       "      <th>minimum_nights</th>\n",
       "      <th>number_of_reviews</th>\n",
       "      <th>reviews_per_month</th>\n",
       "      <th>calculated_host_listings_count</th>\n",
       "      <th>availability_365</th>\n",
       "    </tr>\n",
       "  </thead>\n",
       "  <tbody>\n",
       "    <tr>\n",
       "      <th>latitude</th>\n",
       "      <td>1.000000</td>\n",
       "      <td>0.087732</td>\n",
       "      <td>0.027252</td>\n",
       "      <td>-0.010080</td>\n",
       "      <td>-0.004373</td>\n",
       "      <td>0.019442</td>\n",
       "      <td>-0.005975</td>\n",
       "    </tr>\n",
       "    <tr>\n",
       "      <th>longitude</th>\n",
       "      <td>0.087732</td>\n",
       "      <td>1.000000</td>\n",
       "      <td>-0.067251</td>\n",
       "      <td>0.058775</td>\n",
       "      <td>0.122718</td>\n",
       "      <td>-0.116669</td>\n",
       "      <td>0.080776</td>\n",
       "    </tr>\n",
       "    <tr>\n",
       "      <th>minimum_nights</th>\n",
       "      <td>0.027252</td>\n",
       "      <td>-0.067251</td>\n",
       "      <td>1.000000</td>\n",
       "      <td>-0.085092</td>\n",
       "      <td>-0.093061</td>\n",
       "      <td>0.124060</td>\n",
       "      <td>0.141089</td>\n",
       "    </tr>\n",
       "    <tr>\n",
       "      <th>number_of_reviews</th>\n",
       "      <td>-0.010080</td>\n",
       "      <td>0.058775</td>\n",
       "      <td>-0.085092</td>\n",
       "      <td>1.000000</td>\n",
       "      <td>0.520963</td>\n",
       "      <td>-0.072687</td>\n",
       "      <td>0.176481</td>\n",
       "    </tr>\n",
       "    <tr>\n",
       "      <th>reviews_per_month</th>\n",
       "      <td>-0.004373</td>\n",
       "      <td>0.122718</td>\n",
       "      <td>-0.093061</td>\n",
       "      <td>0.520963</td>\n",
       "      <td>1.000000</td>\n",
       "      <td>-0.004570</td>\n",
       "      <td>0.165443</td>\n",
       "    </tr>\n",
       "    <tr>\n",
       "      <th>calculated_host_listings_count</th>\n",
       "      <td>0.019442</td>\n",
       "      <td>-0.116669</td>\n",
       "      <td>0.124060</td>\n",
       "      <td>-0.072687</td>\n",
       "      <td>-0.004570</td>\n",
       "      <td>1.000000</td>\n",
       "      <td>0.222986</td>\n",
       "    </tr>\n",
       "    <tr>\n",
       "      <th>availability_365</th>\n",
       "      <td>-0.005975</td>\n",
       "      <td>0.080776</td>\n",
       "      <td>0.141089</td>\n",
       "      <td>0.176481</td>\n",
       "      <td>0.165443</td>\n",
       "      <td>0.222986</td>\n",
       "      <td>1.000000</td>\n",
       "    </tr>\n",
       "  </tbody>\n",
       "</table>\n",
       "</div>"
      ],
      "text/plain": [
       "                                latitude  longitude  minimum_nights  \\\n",
       "latitude                        1.000000   0.087732        0.027252   \n",
       "longitude                       0.087732   1.000000       -0.067251   \n",
       "minimum_nights                  0.027252  -0.067251        1.000000   \n",
       "number_of_reviews              -0.010080   0.058775       -0.085092   \n",
       "reviews_per_month              -0.004373   0.122718       -0.093061   \n",
       "calculated_host_listings_count  0.019442  -0.116669        0.124060   \n",
       "availability_365               -0.005975   0.080776        0.141089   \n",
       "\n",
       "                                number_of_reviews  reviews_per_month  \\\n",
       "latitude                                -0.010080          -0.004373   \n",
       "longitude                                0.058775           0.122718   \n",
       "minimum_nights                          -0.085092          -0.093061   \n",
       "number_of_reviews                        1.000000           0.520963   \n",
       "reviews_per_month                        0.520963           1.000000   \n",
       "calculated_host_listings_count          -0.072687          -0.004570   \n",
       "availability_365                         0.176481           0.165443   \n",
       "\n",
       "                                calculated_host_listings_count  \\\n",
       "latitude                                              0.019442   \n",
       "longitude                                            -0.116669   \n",
       "minimum_nights                                        0.124060   \n",
       "number_of_reviews                                    -0.072687   \n",
       "reviews_per_month                                    -0.004570   \n",
       "calculated_host_listings_count                        1.000000   \n",
       "availability_365                                      0.222986   \n",
       "\n",
       "                                availability_365  \n",
       "latitude                               -0.005975  \n",
       "longitude                               0.080776  \n",
       "minimum_nights                          0.141089  \n",
       "number_of_reviews                       0.176481  \n",
       "reviews_per_month                       0.165443  \n",
       "calculated_host_listings_count          0.222986  \n",
       "availability_365                        1.000000  "
      ]
     },
     "execution_count": 90,
     "metadata": {},
     "output_type": "execute_result"
    }
   ],
   "source": [
    "X_train.corr()"
   ]
  },
  {
   "cell_type": "code",
   "execution_count": 91,
   "id": "e6583a00",
   "metadata": {},
   "outputs": [
    {
     "name": "stdout",
     "output_type": "stream",
     "text": [
      "neighbourhood_group:0.05\n",
      "room_type:0.14\n"
     ]
    }
   ],
   "source": [
    "\n",
    "col=[  'neighbourhood_group', 'room_type']\n",
    "for i in col:\n",
    "    \n",
    "    m_score = round( mutual_info_score(X_train[i],y_train), 2)\n",
    "    print(f'{i}:{m_score}')\n"
   ]
  },
  {
   "cell_type": "code",
   "execution_count": 100,
   "id": "50edb0f5",
   "metadata": {},
   "outputs": [
    {
     "data": {
      "text/plain": [
       "Index(['neighbourhood_group', 'latitude', 'longitude', 'room_type',\n",
       "       'minimum_nights', 'number_of_reviews', 'reviews_per_month',\n",
       "       'calculated_host_listings_count', 'availability_365'],\n",
       "      dtype='object')"
      ]
     },
     "execution_count": 100,
     "metadata": {},
     "output_type": "execute_result"
    }
   ],
   "source": [
    "X_train.columns"
   ]
  },
  {
   "cell_type": "code",
   "execution_count": 93,
   "id": "3dcbfada",
   "metadata": {},
   "outputs": [],
   "source": [
    "#[['neighbourhood_group','room_type']]\n",
    "X_train_dict = X_train.to_dict(orient='records')\n",
    "dv = DictVectorizer(sparse=False)\n",
    "X_train_nw = dv.fit_transform(X_train_dict)\n",
    "\n",
    "X_valid_dict = X_valid.to_dict(orient='records')\n",
    "X_valid_nw = dv.transform(X_valid_dict)"
   ]
  },
  {
   "cell_type": "code",
   "execution_count": 94,
   "id": "c622a09b",
   "metadata": {},
   "outputs": [
    {
     "data": {
      "text/plain": [
       "pandas.core.frame.DataFrame"
      ]
     },
     "execution_count": 94,
     "metadata": {},
     "output_type": "execute_result"
    }
   ],
   "source": [
    "type(X_valid)"
   ]
  },
  {
   "cell_type": "code",
   "execution_count": 95,
   "id": "9f979b67",
   "metadata": {},
   "outputs": [
    {
     "data": {
      "text/plain": [
       "['availability_365',\n",
       " 'calculated_host_listings_count',\n",
       " 'latitude',\n",
       " 'longitude',\n",
       " 'minimum_nights',\n",
       " 'neighbourhood_group=Bronx',\n",
       " 'neighbourhood_group=Brooklyn',\n",
       " 'neighbourhood_group=Manhattan',\n",
       " 'neighbourhood_group=Queens',\n",
       " 'neighbourhood_group=Staten Island',\n",
       " 'number_of_reviews',\n",
       " 'reviews_per_month',\n",
       " 'room_type=Entire home/apt',\n",
       " 'room_type=Private room',\n",
       " 'room_type=Shared room']"
      ]
     },
     "execution_count": 95,
     "metadata": {},
     "output_type": "execute_result"
    }
   ],
   "source": [
    "dv.get_feature_names()"
   ]
  },
  {
   "cell_type": "code",
   "execution_count": 96,
   "id": "bcc23f1a",
   "metadata": {},
   "outputs": [
    {
     "data": {
      "text/plain": [
       "LogisticRegression(max_iter=1000, random_state=42)"
      ]
     },
     "execution_count": 96,
     "metadata": {},
     "output_type": "execute_result"
    }
   ],
   "source": [
    "lr= LogisticRegression(solver='lbfgs', C=1.0, random_state=42, max_iter=1000)\n",
    "lr.fit(X_train_nw,y_train)"
   ]
  },
  {
   "cell_type": "code",
   "execution_count": 106,
   "id": "d869f5f6",
   "metadata": {},
   "outputs": [
    {
     "data": {
      "text/plain": [
       "0.79"
      ]
     },
     "execution_count": 106,
     "metadata": {},
     "output_type": "execute_result"
    }
   ],
   "source": [
    "y_valid_predicted=lr.predict(X_valid_nw)\n",
    "round(accuracy_score(y_valid_predicted,y_valid),2)"
   ]
  },
  {
   "cell_type": "markdown",
   "id": "2c5816ca",
   "metadata": {},
   "source": [
    " "
   ]
  },
  {
   "cell_type": "code",
   "execution_count": 110,
   "id": "9975d3ce",
   "metadata": {},
   "outputs": [
    {
     "name": "stdout",
     "output_type": "stream",
     "text": [
      "model accuracy: 0.7466 [-0.0482] after neighbourhood_group feature was removed, \n",
      "model accuracy: 0.7874 [-0.0074] after latitude feature was removed, \n",
      "model accuracy: 0.7874 [-0.0074] after longitude feature was removed, \n",
      "model accuracy: 0.7326 [-0.0622] after room_type feature was removed, \n",
      "model accuracy: 0.7913 [-0.0035] after minimum_nights feature was removed, \n",
      "model accuracy: 0.7953 [0.0005] after number_of_reviews feature was removed, \n",
      "model accuracy: 0.7956 [0.0008] after reviews_per_month feature was removed, \n",
      "model accuracy: 0.794 [-0.0008] after calculated_host_listings_count feature was removed, \n",
      "model accuracy: 0.7821 [-0.0127] after availability_365 feature was removed, \n"
     ]
    }
   ],
   "source": [
    "data_features =['neighbourhood_group', 'latitude', 'longitude', 'room_type',\n",
    "       'minimum_nights', 'number_of_reviews', 'reviews_per_month',\n",
    "       'calculated_host_listings_count', 'availability_365']\n",
    "for i in data_features:\n",
    "    X_train_sample= X_train.drop(i, axis=1)\n",
    "    X_valid_sample= X_valid.drop(i, axis=1)\n",
    "    \n",
    "    X_train_dict_sample = X_train_sample.to_dict(orient='records')\n",
    "    dv = DictVectorizer(sparse=False)\n",
    "    X_train_nw2 = dv.fit_transform(X_train_dict_sample)\n",
    "\n",
    "    X_valid_dict_sample = X_valid.to_dict(orient='records')\n",
    "    X_valid_nw2 = dv.transform(X_valid_dict_sample)\n",
    "    \n",
    "    model= LogisticRegression(solver='lbfgs', C=1.0, random_state=42, max_iter=10000)\n",
    "    model.fit(X_train_nw2,y_train)\n",
    "    \n",
    "    acc=round(accuracy_score(model.predict(X_valid_nw2),y_valid),4)\n",
    "    \n",
    "    print(f'model accuracy: {acc} [{round(acc-0.7948,4)}] after {i} feature was removed, ')"
   ]
  },
  {
   "cell_type": "code",
   "execution_count": 116,
   "id": "50548615",
   "metadata": {},
   "outputs": [],
   "source": [
    "ylog=np.log1p(data.price)\n",
    "Xl_train,Xl_test,ylog_train,ylog_test= train_test_split(X,ylog, test_size=0.4, random_state=42)\n",
    "Xl_valid,Xl_test,ylog_valid,ylog_test= train_test_split(Xl_test,ylog_test, test_size=0.5, random_state=42)\n",
    "\n",
    "Xl_train_dict = Xl_train.to_dict(orient='records')\n",
    "dv = DictVectorizer(sparse=False)\n",
    "Xl_train = dv.fit_transform(Xl_train_dict)\n",
    "\n",
    "Xl_valid_dict = Xl_valid.to_dict(orient='records')\n",
    "Xl_valid = dv.transform(Xl_valid_dict)"
   ]
  },
  {
   "cell_type": "code",
   "execution_count": 121,
   "id": "cc96b247",
   "metadata": {},
   "outputs": [
    {
     "name": "stdout",
     "output_type": "stream",
     "text": [
      "RMSE for alpha 0:    0.236\n",
      "RMSE for alpha 0.01:    0.236\n",
      "RMSE for alpha 0.1:    0.236\n",
      "RMSE for alpha 1:    0.236\n",
      "RMSE for alpha 10:    0.237\n"
     ]
    },
    {
     "name": "stderr",
     "output_type": "stream",
     "text": [
      "C:\\Users\\GBADEGESIN MUHAMMED\\Anaconda2\\envs\\py3_env\\lib\\site-packages\\sklearn\\linear_model\\_ridge.py:147: LinAlgWarning: Ill-conditioned matrix (rcond=3.81025e-21): result may not be accurate.\n",
      "  return linalg.solve(A, Xy, sym_pos=True,\n"
     ]
    }
   ],
   "source": [
    "alpha =  [0, 0.01, 0.1, 1, 10]\n",
    "from sklearn.linear_model import Ridge\n",
    "from sklearn.metrics import mean_squared_error\n",
    "for i in alpha:\n",
    "    model_r = Ridge(alpha=i)\n",
    "    model_r.fit(Xl_train,ylog_train)\n",
    "    y_pred = model_r.predict(Xl_valid)\n",
    "    rmse = round(mean_squared_error(y_pred, ylog_valid),3)\n",
    "    print(f'RMSE for alpha {i}:    {rmse}')"
   ]
  }
 ],
 "metadata": {
  "kernelspec": {
   "display_name": "Python 3",
   "language": "python",
   "name": "python3"
  },
  "language_info": {
   "codemirror_mode": {
    "name": "ipython",
    "version": 3
   },
   "file_extension": ".py",
   "mimetype": "text/x-python",
   "name": "python",
   "nbconvert_exporter": "python",
   "pygments_lexer": "ipython3",
   "version": "3.8.8"
  }
 },
 "nbformat": 4,
 "nbformat_minor": 5
}
